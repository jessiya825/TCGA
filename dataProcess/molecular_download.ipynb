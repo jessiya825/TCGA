{
 "cells": [
  {
   "cell_type": "markdown",
   "id": "0dba0881",
   "metadata": {},
   "source": [
    "# download molecular data\n",
    "version: R"
   ]
  },
  {
   "cell_type": "code",
   "execution_count": 1,
   "id": "f6d7b133-54f9-4691-b1b0-dcfca0114401",
   "metadata": {
    "vscode": {
     "languageId": "r"
    }
   },
   "outputs": [
    {
     "name": "stderr",
     "output_type": "stream",
     "text": [
      "Loading required package: MatrixGenerics\n",
      "\n",
      "Loading required package: matrixStats\n",
      "\n",
      "\n",
      "Attaching package: ‘MatrixGenerics’\n",
      "\n",
      "\n",
      "The following objects are masked from ‘package:matrixStats’:\n",
      "\n",
      "    colAlls, colAnyNAs, colAnys, colAvgsPerRowSet, colCollapse,\n",
      "    colCounts, colCummaxs, colCummins, colCumprods, colCumsums,\n",
      "    colDiffs, colIQRDiffs, colIQRs, colLogSumExps, colMadDiffs,\n",
      "    colMads, colMaxs, colMeans2, colMedians, colMins, colOrderStats,\n",
      "    colProds, colQuantiles, colRanges, colRanks, colSdDiffs, colSds,\n",
      "    colSums2, colTabulates, colVarDiffs, colVars, colWeightedMads,\n",
      "    colWeightedMeans, colWeightedMedians, colWeightedSds,\n",
      "    colWeightedVars, rowAlls, rowAnyNAs, rowAnys, rowAvgsPerColSet,\n",
      "    rowCollapse, rowCounts, rowCummaxs, rowCummins, rowCumprods,\n",
      "    rowCumsums, rowDiffs, rowIQRDiffs, rowIQRs, rowLogSumExps,\n",
      "    rowMadDiffs, rowMads, rowMaxs, rowMeans2, rowMedians, rowMins,\n",
      "    rowOrderStats, rowProds, rowQuantiles, rowRanges, rowRanks,\n",
      "    rowSdDiffs, rowSds, rowSums2, rowTabulates, rowVarDiffs, rowVars,\n",
      "    rowWeightedMads, rowWeightedMeans, rowWeightedMedians,\n",
      "    rowWeightedSds, rowWeightedVars\n",
      "\n",
      "\n",
      "Loading required package: GenomicRanges\n",
      "\n",
      "Loading required package: stats4\n",
      "\n",
      "Loading required package: BiocGenerics\n",
      "\n",
      "\n",
      "Attaching package: ‘BiocGenerics’\n",
      "\n",
      "\n",
      "The following objects are masked from ‘package:stats’:\n",
      "\n",
      "    IQR, mad, sd, var, xtabs\n",
      "\n",
      "\n",
      "The following objects are masked from ‘package:base’:\n",
      "\n",
      "    anyDuplicated, aperm, append, as.data.frame, basename, cbind,\n",
      "    colnames, dirname, do.call, duplicated, eval, evalq, Filter, Find,\n",
      "    get, grep, grepl, intersect, is.unsorted, lapply, Map, mapply,\n",
      "    match, mget, order, paste, pmax, pmax.int, pmin, pmin.int,\n",
      "    Position, rank, rbind, Reduce, rownames, sapply, setdiff, sort,\n",
      "    table, tapply, union, unique, unsplit, which.max, which.min\n",
      "\n",
      "\n",
      "Loading required package: S4Vectors\n",
      "\n",
      "\n",
      "Attaching package: ‘S4Vectors’\n",
      "\n",
      "\n",
      "The following object is masked from ‘package:utils’:\n",
      "\n",
      "    findMatches\n",
      "\n",
      "\n",
      "The following objects are masked from ‘package:base’:\n",
      "\n",
      "    expand.grid, I, unname\n",
      "\n",
      "\n",
      "Loading required package: IRanges\n",
      "\n",
      "Loading required package: GenomeInfoDb\n",
      "\n",
      "Loading required package: Biobase\n",
      "\n",
      "Welcome to Bioconductor\n",
      "\n",
      "    Vignettes contain introductory material; view with\n",
      "    'browseVignettes()'. To cite Bioconductor, see\n",
      "    'citation(\"Biobase\")', and for packages 'citation(\"pkgname\")'.\n",
      "\n",
      "\n",
      "\n",
      "Attaching package: ‘Biobase’\n",
      "\n",
      "\n",
      "The following object is masked from ‘package:MatrixGenerics’:\n",
      "\n",
      "    rowMedians\n",
      "\n",
      "\n",
      "The following objects are masked from ‘package:matrixStats’:\n",
      "\n",
      "    anyMissing, rowMedians\n",
      "\n",
      "\n"
     ]
    }
   ],
   "source": [
    "##该文件必须与GDCdata在同一目录下\n",
    "library(TCGAbiolinks)\n",
    "library(SummarizedExperiment)\n",
    "\n",
    "project <- 'TCGA-PAAD'\n",
    "TCGAbiolinks:::getProjectSummary(project)"
   ]
  },
  {
   "cell_type": "markdown",
   "id": "b4add806-240e-439f-9fdb-00531ba63f0a",
   "metadata": {},
   "source": [
    "# 1. DNA\n"
   ]
  },
  {
   "cell_type": "code",
   "execution_count": null,
   "id": "75c76d00",
   "metadata": {
    "vscode": {
     "languageId": "r"
    }
   },
   "outputs": [],
   "source": [
    "gdcDNA <- GDCquery(project = \"TCGA-PAAD\", # 设置查询条件\n",
    "                data.category = \"Simple Nucleotide Variation\",\n",
    "                data.type = \"Masked Somatic Mutation\",\n",
    "                workflow.type = \"Aliquot Ensemble Somatic Variant Merging and Masking\")\n",
    "\n",
    "# 下载数据（代码和GDCdata文件夹要在同一路径下）\n",
    "download_dir <- \"/picb/lihonglab/caijingxuan/TCGA/GDCdata\"\n",
    "GDCdownload(query= gdcDNA ,method='api',files.per.chunk=10, dir = download_dir)"
   ]
  },
  {
   "cell_type": "code",
   "execution_count": 31,
   "id": "c7c88477-9b06-4bf1-9c97-a4124ea47aa3",
   "metadata": {
    "vscode": {
     "languageId": "r"
    }
   },
   "outputs": [
    {
     "name": "stderr",
     "output_type": "stream",
     "text": [
      "Warning message:\n",
      "“\u001b[1m\u001b[22mOne or more parsing issues, call `problems()` on your data frame for details,\n",
      "e.g.:\n",
      "  dat <- vroom(...)\n",
      "  problems(dat)”\n"
     ]
    }
   ],
   "source": [
    "PAAD_Dnaseq <- GDCprepare(gdcDNA)  #转换为 Bioconductor SummarizedExperiment对象\n",
    "head(PAAD_Dnaseq)"
   ]
  },
  {
   "cell_type": "code",
   "execution_count": null,
   "id": "cd7d5a51-39a1-4ca3-87e3-ea3b229e9d4e",
   "metadata": {
    "vscode": {
     "languageId": "r"
    }
   },
   "outputs": [],
   "source": [
    "\n",
    "data <- assay(query$summarizedExperiment)\n",
    "data_matrix <- as.matrix(data)"
   ]
  },
  {
   "cell_type": "markdown",
   "id": "7c8304b1",
   "metadata": {},
   "source": [
    "# RNA数据 "
   ]
  },
  {
   "cell_type": "code",
   "execution_count": 64,
   "id": "43139bb9-8570-46dd-93fe-3559cf2d6a11",
   "metadata": {
    "vscode": {
     "languageId": "r"
    }
   },
   "outputs": [
    {
     "name": "stderr",
     "output_type": "stream",
     "text": [
      "--------------------------------------\n",
      "\n",
      "o GDCquery: Searching in GDC database\n",
      "\n",
      "--------------------------------------\n",
      "\n",
      "Genome of reference: hg38\n",
      "\n",
      "--------------------------------------------\n",
      "\n",
      "oo Accessing GDC. This might take a while...\n",
      "\n",
      "--------------------------------------------\n",
      "\n",
      "ooo Project: TCGA-PAAD\n",
      "\n",
      "--------------------\n",
      "\n",
      "oo Filtering results\n",
      "\n",
      "--------------------\n",
      "\n",
      "ooo By experimental.strategy\n",
      "\n",
      "ooo By data.type\n",
      "\n",
      "ooo By workflow.type\n",
      "\n",
      "----------------\n",
      "\n",
      "oo Checking data\n",
      "\n",
      "----------------\n",
      "\n",
      "ooo Checking if there are duplicated cases\n",
      "\n",
      "ooo Checking if there are results for the query\n",
      "\n",
      "-------------------\n",
      "\n",
      "o Preparing output\n",
      "\n",
      "-------------------\n",
      "\n"
     ]
    }
   ],
   "source": [
    "gdcRNA <- GDCquery(project = \"TCGA-PAAD\",\n",
    "                data.category = \"Transcriptome Profiling\",\n",
    "                data.type='Gene Expression Quantification',\n",
    "                experimental.strategy = 'RNA-Seq',\n",
    "                workflow.type = \"STAR - Counts\")\n",
    "\n",
    "GDCdownload(query= gdcRNA ,method='api',files.per.chunk=10, dir = download_dir)"
   ]
  },
  {
   "cell_type": "code",
   "execution_count": 68,
   "id": "4bdb0af5-47c0-4393-bf8a-432189079903",
   "metadata": {
    "vscode": {
     "languageId": "r"
    }
   },
   "outputs": [
    {
     "name": "stdout",
     "output_type": "stream",
     "text": [
      "|====================================================|100%                      Completed after 9 s \n"
     ]
    },
    {
     "name": "stderr",
     "output_type": "stream",
     "text": [
      "Starting to add information to samples\n",
      "\n",
      " => Add clinical information to samples\n",
      "\n",
      " => Adding TCGA molecular information from marker papers\n",
      "\n",
      " => Information will have prefix 'paper_' \n",
      "\n",
      "paad subtype information from:doi:10.1016/j.ccell.2017.07.007\n",
      "\n",
      "Available assays in SummarizedExperiment : \n",
      "  => unstranded\n",
      "  => stranded_first\n",
      "  => stranded_second\n",
      "  => tpm_unstrand\n",
      "  => fpkm_unstrand\n",
      "  => fpkm_uq_unstrand\n",
      "\n"
     ]
    }
   ],
   "source": [
    "PAAD_Rnaseq <- GDCprepare(gdcRNA)\n",
    "PAAD_matrix <- assay(PAAD_Rnaseq)\n",
    "\n",
    "gene_name_all <- PAAD_Rnaseq@rowRanges@elementMetadata@listData$gene_name # gene name\n",
    "rownames(PAAD_matrix) <- gene_name_all"
   ]
  },
  {
   "cell_type": "code",
   "execution_count": 100,
   "id": "7dd3cc90-e04a-404f-a7ac-e6d7603bc3c5",
   "metadata": {
    "vscode": {
     "languageId": "r"
    }
   },
   "outputs": [
    {
     "data": {
      "text/html": [
       "<table class=\"dataframe\">\n",
       "<caption>A matrix: 6 × 183 of type int</caption>\n",
       "<thead>\n",
       "\t<tr><th></th><th scope=col>TCGA-F2-7276-01A-11R-2156-07</th><th scope=col>TCGA-IB-7649-01A-11R-2156-07</th><th scope=col>TCGA-HZ-7925-01A-11R-2156-07</th><th scope=col>TCGA-2L-AAQJ-01A-12R-A39D-07</th><th scope=col>TCGA-HZ-A77O-01A-11R-A33R-07</th><th scope=col>TCGA-IB-7887-01A-11R-2156-07</th><th scope=col>TCGA-FB-AAPQ-01A-11R-A41B-07</th><th scope=col>TCGA-XD-AAUG-01A-61R-A41B-07</th><th scope=col>TCGA-YY-A8LH-01A-11R-A36G-07</th><th scope=col>TCGA-US-A77J-01A-11R-A32O-07</th><th scope=col>⋯</th><th scope=col>TCGA-2L-AAQA-01A-21R-A38C-07</th><th scope=col>TCGA-3A-A9IN-01A-11R-A39D-07</th><th scope=col>TCGA-IB-7647-01A-11R-2156-07</th><th scope=col>TCGA-IB-7646-01A-11R-2156-07</th><th scope=col>TCGA-3A-A9IH-01A-12R-A39D-07</th><th scope=col>TCGA-3A-A9IV-01A-11R-A41B-07</th><th scope=col>TCGA-2L-AAQL-01A-11R-A38C-07</th><th scope=col>TCGA-FB-AAPP-01A-12R-A41B-07</th><th scope=col>TCGA-3A-A9IO-01A-11R-A38C-07</th><th scope=col>TCGA-HV-A5A5-01A-11R-A26U-07</th></tr>\n",
       "</thead>\n",
       "<tbody>\n",
       "\t<tr><th scope=row>TSPAN6</th><td>3384</td><td>2018</td><td>2124</td><td>2211</td><td>1585</td><td>2539</td><td>553</td><td>1120</td><td>1907</td><td>1044</td><td>⋯</td><td>1420</td><td>442</td><td>1763</td><td>3493</td><td>2300</td><td> 158</td><td>1165</td><td>1191</td><td>394</td><td>1882</td></tr>\n",
       "\t<tr><th scope=row>TNMD</th><td>  12</td><td>   2</td><td>   3</td><td>   1</td><td>   1</td><td>   0</td><td>  0</td><td>  33</td><td>   0</td><td>   1</td><td>⋯</td><td>   0</td><td>172</td><td>   2</td><td>   0</td><td>   2</td><td>   2</td><td>   2</td><td>   2</td><td> 14</td><td>   0</td></tr>\n",
       "\t<tr><th scope=row>DPM1</th><td>1860</td><td> 796</td><td>2168</td><td>1357</td><td>1419</td><td>2213</td><td>946</td><td> 831</td><td>1558</td><td>1032</td><td>⋯</td><td>1959</td><td>940</td><td>2715</td><td>2461</td><td>1901</td><td>1059</td><td>1266</td><td>1403</td><td>922</td><td>1083</td></tr>\n",
       "\t<tr><th scope=row>SCYL3</th><td> 954</td><td> 486</td><td>1120</td><td> 642</td><td> 539</td><td>1381</td><td>605</td><td> 398</td><td> 777</td><td> 462</td><td>⋯</td><td> 951</td><td>400</td><td>1231</td><td> 544</td><td> 650</td><td> 310</td><td> 483</td><td> 609</td><td>674</td><td> 838</td></tr>\n",
       "\t<tr><th scope=row>C1orf112</th><td> 224</td><td>  95</td><td> 341</td><td> 199</td><td> 232</td><td> 308</td><td> 86</td><td>  88</td><td> 224</td><td> 145</td><td>⋯</td><td> 399</td><td> 79</td><td> 488</td><td> 290</td><td> 246</td><td> 101</td><td>  85</td><td> 156</td><td> 96</td><td> 155</td></tr>\n",
       "\t<tr><th scope=row>FGR</th><td>2191</td><td> 966</td><td> 886</td><td> 516</td><td> 526</td><td> 765</td><td>153</td><td> 839</td><td> 162</td><td>1415</td><td>⋯</td><td> 380</td><td>597</td><td>1498</td><td> 773</td><td> 534</td><td> 105</td><td> 536</td><td>  54</td><td>280</td><td> 766</td></tr>\n",
       "</tbody>\n",
       "</table>\n"
      ],
      "text/latex": [
       "A matrix: 6 × 183 of type int\n",
       "\\begin{tabular}{r|lllllllllllllllllllll}\n",
       "  & TCGA-F2-7276-01A-11R-2156-07 & TCGA-IB-7649-01A-11R-2156-07 & TCGA-HZ-7925-01A-11R-2156-07 & TCGA-2L-AAQJ-01A-12R-A39D-07 & TCGA-HZ-A77O-01A-11R-A33R-07 & TCGA-IB-7887-01A-11R-2156-07 & TCGA-FB-AAPQ-01A-11R-A41B-07 & TCGA-XD-AAUG-01A-61R-A41B-07 & TCGA-YY-A8LH-01A-11R-A36G-07 & TCGA-US-A77J-01A-11R-A32O-07 & ⋯ & TCGA-2L-AAQA-01A-21R-A38C-07 & TCGA-3A-A9IN-01A-11R-A39D-07 & TCGA-IB-7647-01A-11R-2156-07 & TCGA-IB-7646-01A-11R-2156-07 & TCGA-3A-A9IH-01A-12R-A39D-07 & TCGA-3A-A9IV-01A-11R-A41B-07 & TCGA-2L-AAQL-01A-11R-A38C-07 & TCGA-FB-AAPP-01A-12R-A41B-07 & TCGA-3A-A9IO-01A-11R-A38C-07 & TCGA-HV-A5A5-01A-11R-A26U-07\\\\\n",
       "\\hline\n",
       "\tTSPAN6 & 3384 & 2018 & 2124 & 2211 & 1585 & 2539 & 553 & 1120 & 1907 & 1044 & ⋯ & 1420 & 442 & 1763 & 3493 & 2300 &  158 & 1165 & 1191 & 394 & 1882\\\\\n",
       "\tTNMD &   12 &    2 &    3 &    1 &    1 &    0 &   0 &   33 &    0 &    1 & ⋯ &    0 & 172 &    2 &    0 &    2 &    2 &    2 &    2 &  14 &    0\\\\\n",
       "\tDPM1 & 1860 &  796 & 2168 & 1357 & 1419 & 2213 & 946 &  831 & 1558 & 1032 & ⋯ & 1959 & 940 & 2715 & 2461 & 1901 & 1059 & 1266 & 1403 & 922 & 1083\\\\\n",
       "\tSCYL3 &  954 &  486 & 1120 &  642 &  539 & 1381 & 605 &  398 &  777 &  462 & ⋯ &  951 & 400 & 1231 &  544 &  650 &  310 &  483 &  609 & 674 &  838\\\\\n",
       "\tC1orf112 &  224 &   95 &  341 &  199 &  232 &  308 &  86 &   88 &  224 &  145 & ⋯ &  399 &  79 &  488 &  290 &  246 &  101 &   85 &  156 &  96 &  155\\\\\n",
       "\tFGR & 2191 &  966 &  886 &  516 &  526 &  765 & 153 &  839 &  162 & 1415 & ⋯ &  380 & 597 & 1498 &  773 &  534 &  105 &  536 &   54 & 280 &  766\\\\\n",
       "\\end{tabular}\n"
      ],
      "text/markdown": [
       "\n",
       "A matrix: 6 × 183 of type int\n",
       "\n",
       "| <!--/--> | TCGA-F2-7276-01A-11R-2156-07 | TCGA-IB-7649-01A-11R-2156-07 | TCGA-HZ-7925-01A-11R-2156-07 | TCGA-2L-AAQJ-01A-12R-A39D-07 | TCGA-HZ-A77O-01A-11R-A33R-07 | TCGA-IB-7887-01A-11R-2156-07 | TCGA-FB-AAPQ-01A-11R-A41B-07 | TCGA-XD-AAUG-01A-61R-A41B-07 | TCGA-YY-A8LH-01A-11R-A36G-07 | TCGA-US-A77J-01A-11R-A32O-07 | ⋯ | TCGA-2L-AAQA-01A-21R-A38C-07 | TCGA-3A-A9IN-01A-11R-A39D-07 | TCGA-IB-7647-01A-11R-2156-07 | TCGA-IB-7646-01A-11R-2156-07 | TCGA-3A-A9IH-01A-12R-A39D-07 | TCGA-3A-A9IV-01A-11R-A41B-07 | TCGA-2L-AAQL-01A-11R-A38C-07 | TCGA-FB-AAPP-01A-12R-A41B-07 | TCGA-3A-A9IO-01A-11R-A38C-07 | TCGA-HV-A5A5-01A-11R-A26U-07 |\n",
       "|---|---|---|---|---|---|---|---|---|---|---|---|---|---|---|---|---|---|---|---|---|---|\n",
       "| TSPAN6 | 3384 | 2018 | 2124 | 2211 | 1585 | 2539 | 553 | 1120 | 1907 | 1044 | ⋯ | 1420 | 442 | 1763 | 3493 | 2300 |  158 | 1165 | 1191 | 394 | 1882 |\n",
       "| TNMD |   12 |    2 |    3 |    1 |    1 |    0 |   0 |   33 |    0 |    1 | ⋯ |    0 | 172 |    2 |    0 |    2 |    2 |    2 |    2 |  14 |    0 |\n",
       "| DPM1 | 1860 |  796 | 2168 | 1357 | 1419 | 2213 | 946 |  831 | 1558 | 1032 | ⋯ | 1959 | 940 | 2715 | 2461 | 1901 | 1059 | 1266 | 1403 | 922 | 1083 |\n",
       "| SCYL3 |  954 |  486 | 1120 |  642 |  539 | 1381 | 605 |  398 |  777 |  462 | ⋯ |  951 | 400 | 1231 |  544 |  650 |  310 |  483 |  609 | 674 |  838 |\n",
       "| C1orf112 |  224 |   95 |  341 |  199 |  232 |  308 |  86 |   88 |  224 |  145 | ⋯ |  399 |  79 |  488 |  290 |  246 |  101 |   85 |  156 |  96 |  155 |\n",
       "| FGR | 2191 |  966 |  886 |  516 |  526 |  765 | 153 |  839 |  162 | 1415 | ⋯ |  380 | 597 | 1498 |  773 |  534 |  105 |  536 |   54 | 280 |  766 |\n",
       "\n"
      ],
      "text/plain": [
       "         TCGA-F2-7276-01A-11R-2156-07 TCGA-IB-7649-01A-11R-2156-07\n",
       "TSPAN6   3384                         2018                        \n",
       "TNMD       12                            2                        \n",
       "DPM1     1860                          796                        \n",
       "SCYL3     954                          486                        \n",
       "C1orf112  224                           95                        \n",
       "FGR      2191                          966                        \n",
       "         TCGA-HZ-7925-01A-11R-2156-07 TCGA-2L-AAQJ-01A-12R-A39D-07\n",
       "TSPAN6   2124                         2211                        \n",
       "TNMD        3                            1                        \n",
       "DPM1     2168                         1357                        \n",
       "SCYL3    1120                          642                        \n",
       "C1orf112  341                          199                        \n",
       "FGR       886                          516                        \n",
       "         TCGA-HZ-A77O-01A-11R-A33R-07 TCGA-IB-7887-01A-11R-2156-07\n",
       "TSPAN6   1585                         2539                        \n",
       "TNMD        1                            0                        \n",
       "DPM1     1419                         2213                        \n",
       "SCYL3     539                         1381                        \n",
       "C1orf112  232                          308                        \n",
       "FGR       526                          765                        \n",
       "         TCGA-FB-AAPQ-01A-11R-A41B-07 TCGA-XD-AAUG-01A-61R-A41B-07\n",
       "TSPAN6   553                          1120                        \n",
       "TNMD       0                            33                        \n",
       "DPM1     946                           831                        \n",
       "SCYL3    605                           398                        \n",
       "C1orf112  86                            88                        \n",
       "FGR      153                           839                        \n",
       "         TCGA-YY-A8LH-01A-11R-A36G-07 TCGA-US-A77J-01A-11R-A32O-07 ⋯\n",
       "TSPAN6   1907                         1044                         ⋯\n",
       "TNMD        0                            1                         ⋯\n",
       "DPM1     1558                         1032                         ⋯\n",
       "SCYL3     777                          462                         ⋯\n",
       "C1orf112  224                          145                         ⋯\n",
       "FGR       162                         1415                         ⋯\n",
       "         TCGA-2L-AAQA-01A-21R-A38C-07 TCGA-3A-A9IN-01A-11R-A39D-07\n",
       "TSPAN6   1420                         442                         \n",
       "TNMD        0                         172                         \n",
       "DPM1     1959                         940                         \n",
       "SCYL3     951                         400                         \n",
       "C1orf112  399                          79                         \n",
       "FGR       380                         597                         \n",
       "         TCGA-IB-7647-01A-11R-2156-07 TCGA-IB-7646-01A-11R-2156-07\n",
       "TSPAN6   1763                         3493                        \n",
       "TNMD        2                            0                        \n",
       "DPM1     2715                         2461                        \n",
       "SCYL3    1231                          544                        \n",
       "C1orf112  488                          290                        \n",
       "FGR      1498                          773                        \n",
       "         TCGA-3A-A9IH-01A-12R-A39D-07 TCGA-3A-A9IV-01A-11R-A41B-07\n",
       "TSPAN6   2300                          158                        \n",
       "TNMD        2                            2                        \n",
       "DPM1     1901                         1059                        \n",
       "SCYL3     650                          310                        \n",
       "C1orf112  246                          101                        \n",
       "FGR       534                          105                        \n",
       "         TCGA-2L-AAQL-01A-11R-A38C-07 TCGA-FB-AAPP-01A-12R-A41B-07\n",
       "TSPAN6   1165                         1191                        \n",
       "TNMD        2                            2                        \n",
       "DPM1     1266                         1403                        \n",
       "SCYL3     483                          609                        \n",
       "C1orf112   85                          156                        \n",
       "FGR       536                           54                        \n",
       "         TCGA-3A-A9IO-01A-11R-A38C-07 TCGA-HV-A5A5-01A-11R-A26U-07\n",
       "TSPAN6   394                          1882                        \n",
       "TNMD      14                             0                        \n",
       "DPM1     922                          1083                        \n",
       "SCYL3    674                           838                        \n",
       "C1orf112  96                           155                        \n",
       "FGR      280                           766                        "
      ]
     },
     "metadata": {},
     "output_type": "display_data"
    }
   ],
   "source": [
    "head(PAAD_matrix)"
   ]
  },
  {
   "cell_type": "markdown",
   "id": "630d106e-d8da-4e36-8bd6-3ce4534670e4",
   "metadata": {},
   "source": [
    "# 改基因名\n",
    "1. clusterProfiler"
   ]
  },
  {
   "cell_type": "code",
   "execution_count": 85,
   "id": "2d9499b4-8f50-40dd-94ce-ce00b36b9d96",
   "metadata": {
    "vscode": {
     "languageId": "r"
    }
   },
   "outputs": [
    {
     "data": {
      "text/html": [
       "<table class=\"dataframe\">\n",
       "<caption>A data.frame: 6 × 2</caption>\n",
       "<thead>\n",
       "\t<tr><th></th><th scope=col>ensembl_id</th><th scope=col>median</th></tr>\n",
       "\t<tr><th></th><th scope=col>&lt;chr&gt;</th><th scope=col>&lt;int&gt;</th></tr>\n",
       "</thead>\n",
       "<tbody>\n",
       "\t<tr><th scope=row>ENSG00000000003.15</th><td>ENSG00000000003</td><td>1712</td></tr>\n",
       "\t<tr><th scope=row>ENSG00000000005.6</th><td>ENSG00000000005</td><td>   2</td></tr>\n",
       "\t<tr><th scope=row>ENSG00000000419.13</th><td>ENSG00000000419</td><td>1396</td></tr>\n",
       "\t<tr><th scope=row>ENSG00000000457.14</th><td>ENSG00000000457</td><td> 674</td></tr>\n",
       "\t<tr><th scope=row>ENSG00000000460.17</th><td>ENSG00000000460</td><td> 211</td></tr>\n",
       "\t<tr><th scope=row>ENSG00000000938.13</th><td>ENSG00000000938</td><td> 768</td></tr>\n",
       "</tbody>\n",
       "</table>\n"
      ],
      "text/latex": [
       "A data.frame: 6 × 2\n",
       "\\begin{tabular}{r|ll}\n",
       "  & ensembl\\_id & median\\\\\n",
       "  & <chr> & <int>\\\\\n",
       "\\hline\n",
       "\tENSG00000000003.15 & ENSG00000000003 & 1712\\\\\n",
       "\tENSG00000000005.6 & ENSG00000000005 &    2\\\\\n",
       "\tENSG00000000419.13 & ENSG00000000419 & 1396\\\\\n",
       "\tENSG00000000457.14 & ENSG00000000457 &  674\\\\\n",
       "\tENSG00000000460.17 & ENSG00000000460 &  211\\\\\n",
       "\tENSG00000000938.13 & ENSG00000000938 &  768\\\\\n",
       "\\end{tabular}\n"
      ],
      "text/markdown": [
       "\n",
       "A data.frame: 6 × 2\n",
       "\n",
       "| <!--/--> | ensembl_id &lt;chr&gt; | median &lt;int&gt; |\n",
       "|---|---|---|\n",
       "| ENSG00000000003.15 | ENSG00000000003 | 1712 |\n",
       "| ENSG00000000005.6 | ENSG00000000005 |    2 |\n",
       "| ENSG00000000419.13 | ENSG00000000419 | 1396 |\n",
       "| ENSG00000000457.14 | ENSG00000000457 |  674 |\n",
       "| ENSG00000000460.17 | ENSG00000000460 |  211 |\n",
       "| ENSG00000000938.13 | ENSG00000000938 |  768 |\n",
       "\n"
      ],
      "text/plain": [
       "                   ensembl_id      median\n",
       "ENSG00000000003.15 ENSG00000000003 1712  \n",
       "ENSG00000000005.6  ENSG00000000005    2  \n",
       "ENSG00000000419.13 ENSG00000000419 1396  \n",
       "ENSG00000000457.14 ENSG00000000457  674  \n",
       "ENSG00000000460.17 ENSG00000000460  211  \n",
       "ENSG00000000938.13 ENSG00000000938  768  "
      ]
     },
     "metadata": {},
     "output_type": "display_data"
    },
    {
     "data": {
      "text/html": [
       "<style>\n",
       ".list-inline {list-style: none; margin:0; padding: 0}\n",
       ".list-inline>li {display: inline-block}\n",
       ".list-inline>li:not(:last-child)::after {content: \"\\00b7\"; padding: 0 .5ex}\n",
       "</style>\n",
       "<ol class=list-inline><li>'ENSG00000000003'</li><li>'ENSG00000000005'</li><li>'ENSG00000000419'</li><li>'ENSG00000000457'</li><li>'ENSG00000000460'</li><li>'ENSG00000000938'</li></ol>\n"
      ],
      "text/latex": [
       "\\begin{enumerate*}\n",
       "\\item 'ENSG00000000003'\n",
       "\\item 'ENSG00000000005'\n",
       "\\item 'ENSG00000000419'\n",
       "\\item 'ENSG00000000457'\n",
       "\\item 'ENSG00000000460'\n",
       "\\item 'ENSG00000000938'\n",
       "\\end{enumerate*}\n"
      ],
      "text/markdown": [
       "1. 'ENSG00000000003'\n",
       "2. 'ENSG00000000005'\n",
       "3. 'ENSG00000000419'\n",
       "4. 'ENSG00000000457'\n",
       "5. 'ENSG00000000460'\n",
       "6. 'ENSG00000000938'\n",
       "\n",
       "\n"
      ],
      "text/plain": [
       "[1] \"ENSG00000000003\" \"ENSG00000000005\" \"ENSG00000000419\" \"ENSG00000000457\"\n",
       "[5] \"ENSG00000000460\" \"ENSG00000000938\""
      ]
     },
     "metadata": {},
     "output_type": "display_data"
    },
    {
     "name": "stderr",
     "output_type": "stream",
     "text": [
      "'select()' returned 1:many mapping between keys and columns\n",
      "\n",
      "Warning message in bitr(ids$ensembl_id, fromType = \"ENSEMBL\", toType = \"SYMBOL\", :\n",
      "“40.59% of input gene IDs are fail to map...”\n"
     ]
    },
    {
     "data": {
      "text/html": [
       "<table class=\"dataframe\">\n",
       "<caption>A data.frame: 6 × 2</caption>\n",
       "<thead>\n",
       "\t<tr><th></th><th scope=col>ENSEMBL</th><th scope=col>SYMBOL</th></tr>\n",
       "\t<tr><th></th><th scope=col>&lt;chr&gt;</th><th scope=col>&lt;chr&gt;</th></tr>\n",
       "</thead>\n",
       "<tbody>\n",
       "\t<tr><th scope=row>1</th><td>ENSG00000000003</td><td>TSPAN6</td></tr>\n",
       "\t<tr><th scope=row>2</th><td>ENSG00000000005</td><td>TNMD  </td></tr>\n",
       "\t<tr><th scope=row>3</th><td>ENSG00000000419</td><td>DPM1  </td></tr>\n",
       "\t<tr><th scope=row>4</th><td>ENSG00000000457</td><td>SCYL3 </td></tr>\n",
       "\t<tr><th scope=row>5</th><td>ENSG00000000460</td><td>FIRRM </td></tr>\n",
       "\t<tr><th scope=row>6</th><td>ENSG00000000938</td><td>FGR   </td></tr>\n",
       "</tbody>\n",
       "</table>\n"
      ],
      "text/latex": [
       "A data.frame: 6 × 2\n",
       "\\begin{tabular}{r|ll}\n",
       "  & ENSEMBL & SYMBOL\\\\\n",
       "  & <chr> & <chr>\\\\\n",
       "\\hline\n",
       "\t1 & ENSG00000000003 & TSPAN6\\\\\n",
       "\t2 & ENSG00000000005 & TNMD  \\\\\n",
       "\t3 & ENSG00000000419 & DPM1  \\\\\n",
       "\t4 & ENSG00000000457 & SCYL3 \\\\\n",
       "\t5 & ENSG00000000460 & FIRRM \\\\\n",
       "\t6 & ENSG00000000938 & FGR   \\\\\n",
       "\\end{tabular}\n"
      ],
      "text/markdown": [
       "\n",
       "A data.frame: 6 × 2\n",
       "\n",
       "| <!--/--> | ENSEMBL &lt;chr&gt; | SYMBOL &lt;chr&gt; |\n",
       "|---|---|---|\n",
       "| 1 | ENSG00000000003 | TSPAN6 |\n",
       "| 2 | ENSG00000000005 | TNMD   |\n",
       "| 3 | ENSG00000000419 | DPM1   |\n",
       "| 4 | ENSG00000000457 | SCYL3  |\n",
       "| 5 | ENSG00000000460 | FIRRM  |\n",
       "| 6 | ENSG00000000938 | FGR    |\n",
       "\n"
      ],
      "text/plain": [
       "  ENSEMBL         SYMBOL\n",
       "1 ENSG00000000003 TSPAN6\n",
       "2 ENSG00000000005 TNMD  \n",
       "3 ENSG00000000419 DPM1  \n",
       "4 ENSG00000000457 SCYL3 \n",
       "5 ENSG00000000460 FIRRM \n",
       "6 ENSG00000000938 FGR   "
      ]
     },
     "metadata": {},
     "output_type": "display_data"
    }
   ],
   "source": [
    "library(clusterProfiler)\n",
    "library(org.Hs.eg.db)\n",
    "library(stringr) \n",
    "ids <- data.frame(ensembl_id=str_split(rownames(PAAD_matrix),'[.]',simplify = T)[,1],\n",
    "            median=apply(PAAD_count_matrix,1,median))\n",
    "head(ids)\n",
    "head(ids$ensembl_id)\n",
    "\n",
    "gene_name <- bitr(ids$ensembl_id, fromType=\"ENSEMBL\", toType=\"SYMBOL\", OrgDb=\"org.Hs.eg.db\")\n",
    "head(gene_name)"
   ]
  },
  {
   "cell_type": "code",
   "execution_count": 84,
   "id": "ed36ae5f-3cfb-4c1b-8941-9e8f4022b31c",
   "metadata": {
    "vscode": {
     "languageId": "r"
    }
   },
   "outputs": [
    {
     "data": {
      "text/plain": [
       "\n",
       "FALSE  TRUE \n",
       "24622 36038 "
      ]
     },
     "metadata": {},
     "output_type": "display_data"
    }
   ],
   "source": [
    "#查看有多少基因在包里找不到\n",
    "g2s <- unique(toTable(org.Hs.egSYMBOL))\n",
    "g2e <- unique(toTable(org.Hs.egENSEMBL)) \n",
    "s2e <- merge(g2e,g2s,by='gene_id')\n",
    "table(ids$ensembl_id %in% s2e$ensembl)"
   ]
  },
  {
   "cell_type": "markdown",
   "id": "f26f888e",
   "metadata": {},
   "source": [
    "2. gtf annotation"
   ]
  },
  {
   "cell_type": "code",
   "execution_count": 86,
   "id": "0cd3a732-ecfe-40d5-b9f7-604d586dee9a",
   "metadata": {
    "vscode": {
     "languageId": "r"
    }
   },
   "outputs": [
    {
     "data": {
      "text/html": [
       "<table class=\"dataframe\">\n",
       "<caption>A data.frame: 6 × 6</caption>\n",
       "<thead>\n",
       "\t<tr><th></th><th scope=col>chr</th><th scope=col>start</th><th scope=col>end</th><th scope=col>ensembl</th><th scope=col>type</th><th scope=col>symbol</th></tr>\n",
       "\t<tr><th></th><th scope=col>&lt;chr&gt;</th><th scope=col>&lt;int&gt;</th><th scope=col>&lt;int&gt;</th><th scope=col>&lt;chr&gt;</th><th scope=col>&lt;chr&gt;</th><th scope=col>&lt;chr&gt;</th></tr>\n",
       "</thead>\n",
       "<tbody>\n",
       "\t<tr><th scope=row>1</th><td>chr1</td><td>11869</td><td>14409</td><td>ENSG00000223972</td><td>transcribed_unprocessed_pseudogene</td><td>DDX11L1  </td></tr>\n",
       "\t<tr><th scope=row>2</th><td>chr1</td><td>14404</td><td>29570</td><td>ENSG00000227232</td><td>unprocessed_pseudogene            </td><td>WASH7P   </td></tr>\n",
       "\t<tr><th scope=row>3</th><td>chr1</td><td>29554</td><td>31109</td><td>ENSG00000243485</td><td>lincRNA                           </td><td>MIR1302-2</td></tr>\n",
       "\t<tr><th scope=row>4</th><td>chr1</td><td>34554</td><td>36081</td><td>ENSG00000237613</td><td>lincRNA                           </td><td>FAM138A  </td></tr>\n",
       "\t<tr><th scope=row>5</th><td>chr1</td><td>52473</td><td>53312</td><td>ENSG00000268020</td><td>unprocessed_pseudogene            </td><td>OR4G4P   </td></tr>\n",
       "\t<tr><th scope=row>6</th><td>chr1</td><td>62948</td><td>63887</td><td>ENSG00000240361</td><td>unprocessed_pseudogene            </td><td>OR4G11P  </td></tr>\n",
       "</tbody>\n",
       "</table>\n"
      ],
      "text/latex": [
       "A data.frame: 6 × 6\n",
       "\\begin{tabular}{r|llllll}\n",
       "  & chr & start & end & ensembl & type & symbol\\\\\n",
       "  & <chr> & <int> & <int> & <chr> & <chr> & <chr>\\\\\n",
       "\\hline\n",
       "\t1 & chr1 & 11869 & 14409 & ENSG00000223972 & transcribed\\_unprocessed\\_pseudogene & DDX11L1  \\\\\n",
       "\t2 & chr1 & 14404 & 29570 & ENSG00000227232 & unprocessed\\_pseudogene             & WASH7P   \\\\\n",
       "\t3 & chr1 & 29554 & 31109 & ENSG00000243485 & lincRNA                            & MIR1302-2\\\\\n",
       "\t4 & chr1 & 34554 & 36081 & ENSG00000237613 & lincRNA                            & FAM138A  \\\\\n",
       "\t5 & chr1 & 52473 & 53312 & ENSG00000268020 & unprocessed\\_pseudogene             & OR4G4P   \\\\\n",
       "\t6 & chr1 & 62948 & 63887 & ENSG00000240361 & unprocessed\\_pseudogene             & OR4G11P  \\\\\n",
       "\\end{tabular}\n"
      ],
      "text/markdown": [
       "\n",
       "A data.frame: 6 × 6\n",
       "\n",
       "| <!--/--> | chr &lt;chr&gt; | start &lt;int&gt; | end &lt;int&gt; | ensembl &lt;chr&gt; | type &lt;chr&gt; | symbol &lt;chr&gt; |\n",
       "|---|---|---|---|---|---|---|\n",
       "| 1 | chr1 | 11869 | 14409 | ENSG00000223972 | transcribed_unprocessed_pseudogene | DDX11L1   |\n",
       "| 2 | chr1 | 14404 | 29570 | ENSG00000227232 | unprocessed_pseudogene             | WASH7P    |\n",
       "| 3 | chr1 | 29554 | 31109 | ENSG00000243485 | lincRNA                            | MIR1302-2 |\n",
       "| 4 | chr1 | 34554 | 36081 | ENSG00000237613 | lincRNA                            | FAM138A   |\n",
       "| 5 | chr1 | 52473 | 53312 | ENSG00000268020 | unprocessed_pseudogene             | OR4G4P    |\n",
       "| 6 | chr1 | 62948 | 63887 | ENSG00000240361 | unprocessed_pseudogene             | OR4G11P   |\n",
       "\n"
      ],
      "text/plain": [
       "  chr  start end   ensembl         type                               symbol   \n",
       "1 chr1 11869 14409 ENSG00000223972 transcribed_unprocessed_pseudogene DDX11L1  \n",
       "2 chr1 14404 29570 ENSG00000227232 unprocessed_pseudogene             WASH7P   \n",
       "3 chr1 29554 31109 ENSG00000243485 lincRNA                            MIR1302-2\n",
       "4 chr1 34554 36081 ENSG00000237613 lincRNA                            FAM138A  \n",
       "5 chr1 52473 53312 ENSG00000268020 unprocessed_pseudogene             OR4G4P   \n",
       "6 chr1 62948 63887 ENSG00000240361 unprocessed_pseudogene             OR4G11P  "
      ]
     },
     "metadata": {},
     "output_type": "display_data"
    }
   ],
   "source": [
    "load('human_geneInfo_genecode_v25.rda') # gencode数据库的gtf注释\n",
    "# https://github.com/daniel615212950/TCGA/blob/master/human_geneInfo_genecode_v25.rda\n",
    "head(human_geneInfo_genecode_v25) # 可以看到有symbol和ensembl的对应关系"
   ]
  },
  {
   "cell_type": "code",
   "execution_count": 87,
   "id": "f1f38862-669f-4e1b-8994-049fdd425d99",
   "metadata": {
    "vscode": {
     "languageId": "r"
    }
   },
   "outputs": [
    {
     "data": {
      "text/plain": [
       "\n",
       "FALSE  TRUE \n",
       "10815 49845 "
      ]
     },
     "metadata": {},
     "output_type": "display_data"
    }
   ],
   "source": [
    "#查看多少基因在gtf文件里找不到\n",
    "s2e <- human_geneInfo_genecode_v25[,c(4,6)]\n",
    "table(ids$ensembl_id %in% s2e$ensembl)"
   ]
  },
  {
   "cell_type": "code",
   "execution_count": 88,
   "id": "d7a89d56-bf6c-469d-a1af-b7023ca6f027",
   "metadata": {
    "vscode": {
     "languageId": "r"
    }
   },
   "outputs": [
    {
     "data": {
      "text/html": [
       "<table class=\"dataframe\">\n",
       "<caption>A data.frame: 6 × 3</caption>\n",
       "<thead>\n",
       "\t<tr><th></th><th scope=col>ensembl_id</th><th scope=col>median</th><th scope=col>symbol</th></tr>\n",
       "\t<tr><th></th><th scope=col>&lt;chr&gt;</th><th scope=col>&lt;int&gt;</th><th scope=col>&lt;chr&gt;</th></tr>\n",
       "</thead>\n",
       "<tbody>\n",
       "\t<tr><th scope=row>ENSG00000000003.15</th><td>ENSG00000000003</td><td>1712</td><td>TSPAN6  </td></tr>\n",
       "\t<tr><th scope=row>ENSG00000000005.6</th><td>ENSG00000000005</td><td>   2</td><td>TNMD    </td></tr>\n",
       "\t<tr><th scope=row>ENSG00000000419.13</th><td>ENSG00000000419</td><td>1396</td><td>DPM1    </td></tr>\n",
       "\t<tr><th scope=row>ENSG00000000457.14</th><td>ENSG00000000457</td><td> 674</td><td>SCYL3   </td></tr>\n",
       "\t<tr><th scope=row>ENSG00000000460.17</th><td>ENSG00000000460</td><td> 211</td><td>C1orf112</td></tr>\n",
       "\t<tr><th scope=row>ENSG00000000938.13</th><td>ENSG00000000938</td><td> 768</td><td>FGR     </td></tr>\n",
       "</tbody>\n",
       "</table>\n"
      ],
      "text/latex": [
       "A data.frame: 6 × 3\n",
       "\\begin{tabular}{r|lll}\n",
       "  & ensembl\\_id & median & symbol\\\\\n",
       "  & <chr> & <int> & <chr>\\\\\n",
       "\\hline\n",
       "\tENSG00000000003.15 & ENSG00000000003 & 1712 & TSPAN6  \\\\\n",
       "\tENSG00000000005.6 & ENSG00000000005 &    2 & TNMD    \\\\\n",
       "\tENSG00000000419.13 & ENSG00000000419 & 1396 & DPM1    \\\\\n",
       "\tENSG00000000457.14 & ENSG00000000457 &  674 & SCYL3   \\\\\n",
       "\tENSG00000000460.17 & ENSG00000000460 &  211 & C1orf112\\\\\n",
       "\tENSG00000000938.13 & ENSG00000000938 &  768 & FGR     \\\\\n",
       "\\end{tabular}\n"
      ],
      "text/markdown": [
       "\n",
       "A data.frame: 6 × 3\n",
       "\n",
       "| <!--/--> | ensembl_id &lt;chr&gt; | median &lt;int&gt; | symbol &lt;chr&gt; |\n",
       "|---|---|---|---|\n",
       "| ENSG00000000003.15 | ENSG00000000003 | 1712 | TSPAN6   |\n",
       "| ENSG00000000005.6 | ENSG00000000005 |    2 | TNMD     |\n",
       "| ENSG00000000419.13 | ENSG00000000419 | 1396 | DPM1     |\n",
       "| ENSG00000000457.14 | ENSG00000000457 |  674 | SCYL3    |\n",
       "| ENSG00000000460.17 | ENSG00000000460 |  211 | C1orf112 |\n",
       "| ENSG00000000938.13 | ENSG00000000938 |  768 | FGR      |\n",
       "\n"
      ],
      "text/plain": [
       "                   ensembl_id      median symbol  \n",
       "ENSG00000000003.15 ENSG00000000003 1712   TSPAN6  \n",
       "ENSG00000000005.6  ENSG00000000005    2   TNMD    \n",
       "ENSG00000000419.13 ENSG00000000419 1396   DPM1    \n",
       "ENSG00000000457.14 ENSG00000000457  674   SCYL3   \n",
       "ENSG00000000460.17 ENSG00000000460  211   C1orf112\n",
       "ENSG00000000938.13 ENSG00000000938  768   FGR     "
      ]
     },
     "metadata": {},
     "output_type": "display_data"
    }
   ],
   "source": [
    "ids_gtf=ids[ids$ensembl_id %in% s2e$ensembl,]\n",
    "#取出在gencode数据库的gtf注释中能找到的ensembl_id\n",
    "ids_gtf$symbol=s2e[match(ids_gtf$ensembl_id,s2e$ensembl),2]\n",
    "#match返回其第二个参数中第一个参数匹配的位置\n",
    "# 把s2e的ensembl按照ids$ensembl的顺序一个个取出来，从而得到ids$symbol这一列\n",
    "head(ids_gtf)"
   ]
  },
  {
   "cell_type": "markdown",
   "id": "74dba966",
   "metadata": {},
   "source": [
    "3. biomaRt包"
   ]
  },
  {
   "cell_type": "code",
   "execution_count": null,
   "id": "be08a029",
   "metadata": {
    "vscode": {
     "languageId": "r"
    }
   },
   "outputs": [],
   "source": [
    "library(dplyr)\n",
    "library(biomaRt)\n",
    "library(stringr) "
   ]
  },
  {
   "cell_type": "code",
   "execution_count": null,
   "id": "90adc57e-576e-44a0-942b-5272c9784ef8",
   "metadata": {
    "vscode": {
     "languageId": "r"
    }
   },
   "outputs": [],
   "source": [
    "human <- useMart(\"ENSEMBL_MART_ENSEMBL\") #选定数据库,listMarts()函数列出可用数据库\n",
    "listDatasets(human) #显示当前数据库所含的基因组注释\n",
    "mart <- useDataset(\"hsapiens_gene_ensembl\", human) #选定数据库中的基因组\n",
    "listFilters(mart) #查看可选的注释类型\n",
    "attributes <- listAttributes(mart)\n",
    "hg.symbol <- getBM(attributes = c(\"ensembl_gene_id_version\",\"hgnc_symbol\"),\n",
    "                    filters = \"ensembl_gene_id_version\",values = ensg_id,mart = mart,useCache = F)"
   ]
  },
  {
   "cell_type": "code",
   "execution_count": null,
   "id": "752f3c2f-86d5-4144-9b58-52e50eb7a194",
   "metadata": {
    "vscode": {
     "languageId": "r"
    }
   },
   "outputs": [],
   "source": [
    "\n",
    "ids <- data.frame(ensembl_id=str_split(rownames(exprSet),'[.]',simplify = T)[,1],\n",
    "                median=apply(exprSet,1,median))\n",
    "head(ids)\n",
    "head(ids$ensembl_id)"
   ]
  }
 ],
 "metadata": {
  "kernelspec": {
   "display_name": "R",
   "language": "R",
   "name": "ir"
  },
  "language_info": {
   "codemirror_mode": "r",
   "file_extension": ".r",
   "mimetype": "text/x-r-source",
   "name": "R",
   "pygments_lexer": "r",
   "version": "4.3.0"
  }
 },
 "nbformat": 4,
 "nbformat_minor": 5
}
